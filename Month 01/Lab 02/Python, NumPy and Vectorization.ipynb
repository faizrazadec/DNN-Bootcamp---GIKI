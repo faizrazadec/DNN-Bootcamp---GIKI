{
 "cells": [
  {
   "cell_type": "markdown",
   "metadata": {
    "id": "YMAaxV1twCCA",
    "pycharm": {
     "name": "#%% md\n"
    }
   },
   "source": [
    "# Python, NumPy and Vectorization\n",
    "A brief introduction to some of the scientific computing used in this course. In particular the NumPy scientific computing package and its use with python."
   ]
  },
  {
   "cell_type": "code",
   "execution_count": 68,
   "metadata": {
    "id": "PzVJguVqwCCE",
    "pycharm": {
     "name": "#%%\n"
    }
   },
   "outputs": [],
   "source": [
    "import numpy as np    # it is an unofficial standard to use np for numpy\n",
    "import time"
   ]
  },
  {
   "cell_type": "markdown",
   "metadata": {
    "id": "tlNxIWhswCCF",
    "pycharm": {
     "name": "#%% md\n"
    }
   },
   "source": [
    "<a name=\"toc_40015_2\"></a>\n",
    "# Python and NumPy <a name='Python and NumPy'></a>\n",
    "Python is the programming language we will be using in this course. It has a set of numeric data types and arithmetic operations. NumPy is a library that extends the base capabilities of python to add a richer data set including more numeric types, vectors, matrices, and many matrix functions. NumPy and python  work together fairly seamlessly. Python arithmetic operators work on NumPy data types and many NumPy functions will accept python data types.\n"
   ]
  },
  {
   "cell_type": "markdown",
   "metadata": {
    "id": "qS8AJM7dwCCF",
    "pycharm": {
     "name": "#%% md\n"
    }
   },
   "source": [
    "<a name=\"toc_40015_3\"></a>\n",
    "# Vectors\n",
    "<a name=\"toc_40015_3.1\"></a>\n",
    "## Abstract\n",
    "<img align=\"right\" src=\"./images/C1_W2_Lab04_Vectors.PNG\" style=\"width:340px;\" >Vectors, as you will use them in this course, are ordered arrays of numbers. In notation, vectors are denoted with lower case bold letters such as $\\mathbf{x}$.  The elements of a vector are all the same type. A vector does not, for example, contain both characters and numbers. The number of elements in the array is often referred to as the *dimension* though mathematicians may prefer *rank*. The vector shown has a dimension of $n$. The elements of a vector can be referenced with an index. In math settings, indexes typically run from 1 to n. In computer science and these labs, indexing will typically run from 0 to n-1.  In notation, elements of a vector, when referenced individually will indicate the index in a subscript, for example, the $0^{th}$ element, of the vector $\\mathbf{x}$ is $x_0$. Note, the x is not bold in this case.  \n"
   ]
  },
  {
   "cell_type": "markdown",
   "metadata": {
    "id": "29SbkusIwCCF",
    "pycharm": {
     "name": "#%% md\n"
    }
   },
   "source": [
    "<a name=\"toc_40015_3.2\"></a>\n",
    "## NumPy Arrays\n",
    "\n",
    "NumPy's basic data structure is an indexable, n-dimensional *array* containing elements of the same type (`dtype`). Right away, you may notice we have overloaded the term 'dimension'. Above, it was the number of elements in the vector, here, dimension refers to the number of indexes of an array. A one-dimensional or 1-D array has one index.\n",
    "\n",
    " - 1-D array, shape (n,): n elements indexed [0] through [n-1]\n"
   ]
  },
  {
   "cell_type": "markdown",
   "metadata": {
    "id": "OqZON_HswCCG",
    "pycharm": {
     "name": "#%% md\n"
    }
   },
   "source": [
    "<a name=\"toc_40015_3.3\"></a>\n",
    "## Vector Creation\n"
   ]
  },
  {
   "cell_type": "markdown",
   "metadata": {
    "id": "vDCf6iq3wCCG",
    "pycharm": {
     "name": "#%% md\n"
    }
   },
   "source": [
    "Data creation routines in NumPy will generally have a first parameter which is the shape of the object. This can either be a single value for a 1-D result or a tuple (n,m,...) specifying the shape of the result. Below are examples of creating vectors using these routines."
   ]
  },
  {
   "cell_type": "code",
   "execution_count": 76,
   "metadata": {
    "id": "Q07U5udwwCCG",
    "outputId": "135240a0-ce8d-4eb6-fd1b-6182f112e8e0",
    "pycharm": {
     "name": "#%%\n"
    }
   },
   "outputs": [
    {
     "name": "stdout",
     "output_type": "stream",
     "text": [
      "np.zeros(4) : a = [0. 0. 0. 0.], a shape = (4,), a data type = float64\n",
      "np.random.random_sample(4): a = [0.59016891 0.48855887 0.52727306 0.18597929], a shape = (4,), a data type = float64\n"
     ]
    }
   ],
   "source": [
    "a = np.zeros(4)\n",
    "print(f\"np.zeros(4) : a = {a}, a shape = {a.shape}, a data type = {a.dtype}\")\n",
    "\n",
    "a = np.random.random_sample(4)\n",
    "print(f\"np.random.random_sample(4): a = {a}, a shape = {a.shape}, a data type = {a.dtype}\")"
   ]
  },
  {
   "cell_type": "markdown",
   "metadata": {
    "id": "rM7Rc9-XwCCH",
    "pycharm": {
     "name": "#%% md\n"
    }
   },
   "source": [
    "Some data creation routines do not take a shape tuple:"
   ]
  },
  {
   "cell_type": "code",
   "execution_count": 79,
   "metadata": {
    "id": "kL3H1RwfwCCH",
    "outputId": "40e174e6-eb31-48b0-fa43-5297547d1086",
    "pycharm": {
     "name": "#%%\n"
    }
   },
   "outputs": [
    {
     "name": "stdout",
     "output_type": "stream",
     "text": [
      "np.arange(4.): a = [0. 1. 2. 3.], a shape = (4,), a data type = float64\n",
      "np.random.rand(4): a = [0.5679478  0.18458777 0.65035916 0.12787485], a shape = (4,), a data type = float64\n"
     ]
    }
   ],
   "source": [
    "a = np.arange(4.)\n",
    "print(f\"np.arange(4.): a = {a}, a shape = {a.shape}, a data type = {a.dtype}\")\n",
    "\n",
    "a = np.random.rand(4)\n",
    "print(f\"np.random.rand(4): a = {a}, a shape = {a.shape}, a data type = {a.dtype}\")"
   ]
  },
  {
   "cell_type": "markdown",
   "metadata": {
    "id": "S0ZSpcyuwCCH",
    "pycharm": {
     "name": "#%% md\n"
    }
   },
   "source": [
    "values can be specified manually as well."
   ]
  },
  {
   "cell_type": "code",
   "execution_count": 82,
   "metadata": {
    "id": "OLJIf0BkwCCH",
    "outputId": "050fcfc4-8f37-48a7-a186-76aa0ca92b9d",
    "pycharm": {
     "name": "#%%\n"
    }
   },
   "outputs": [
    {
     "name": "stdout",
     "output_type": "stream",
     "text": [
      "np.array([5,4,3,2]): a = [5 4 3 2], a shape = (4,), a data type = int32\n",
      "np.random.random_sample(4): a = [5. 4. 3. 2.], a shape = (4,), a data type = float64\n"
     ]
    }
   ],
   "source": [
    "a = np.array([5,4,3,2])\n",
    "print(f\"np.array([5,4,3,2]): a = {a}, a shape = {a.shape}, a data type = {a.dtype}\")\n",
    "\n",
    "a = np.array([5.,4,3,2])\n",
    "print(f\"np.random.random_sample(4): a = {a}, a shape = {a.shape}, a data type = {a.dtype}\")"
   ]
  },
  {
   "cell_type": "markdown",
   "metadata": {
    "id": "SOWtG515wCCI",
    "pycharm": {
     "name": "#%% md\n"
    }
   },
   "source": [
    "These have all created a one-dimensional vector  `a` with four elements. `a.shape` returns the dimensions. Here we see a.shape = `(4,)` indicating a 1-d array with 4 elements.  "
   ]
  },
  {
   "cell_type": "markdown",
   "metadata": {
    "id": "y4-JLl86wCCI",
    "pycharm": {
     "name": "#%% md\n"
    }
   },
   "source": [
    "<a name=\"toc_40015_3.4\"></a>\n",
    "## Operations on Vectors\n",
    "Let's explore some operations using vectors.\n",
    "<a name=\"toc_40015_3.4.1\"></a>\n",
    "### Indexing\n",
    "Elements of vectors can be accessed via indexing and slicing. NumPy provides a very complete set of indexing and slicing capabilities. We will explore only the basics needed for the course here. Reference [Slicing and Indexing](https://NumPy.org/doc/stable/reference/arrays.indexing.html) for more details.  \n",
    "**Indexing** means referring to *an element* of an array by its position within the array.  \n",
    "**Slicing** means getting a *subset* of elements from an array based on their indices.  \n",
    "NumPy starts indexing at zero so the 3rd element of an vector $\\mathbf{a}$ is `a[2]`."
   ]
  },
  {
   "cell_type": "code",
   "execution_count": 86,
   "metadata": {
    "id": "D_t2apnfwCCI",
    "outputId": "177b7993-423f-4b6f-ddf2-70743832af94",
    "pycharm": {
     "name": "#%%\n"
    }
   },
   "outputs": [
    {
     "name": "stdout",
     "output_type": "stream",
     "text": [
      "[0 1 2 3 4 5 6 7 8 9]\n",
      "a[2].shape: (), 2, Accessing an element returns a scalar\n",
      "index 10 is out of bounds for axis 0 with size 10\n"
     ]
    }
   ],
   "source": [
    "a = np.array([0, 1, 2, 3, 4, 5, 6, 7, 8, 9])\n",
    "print(a)\n",
    "\n",
    "print(f\"a[2].shape: {a[2].shape}, {a[2]}, Accessing an element returns a scalar\")\n",
    "\n",
    "a[-1] = 9\n",
    "try:\n",
    "    print(f\"The error message you'll see is: {a[10]}\")\n",
    "except Exception as e:\n",
    "    print(e)"
   ]
  },
  {
   "cell_type": "markdown",
   "metadata": {
    "id": "IvQbF2-4wCCI",
    "pycharm": {
     "name": "#%% md\n"
    }
   },
   "source": [
    "<a name=\"toc_40015_3.4.2\"></a>\n",
    "### Slicing\n",
    "Slicing creates an array of indices using a set of three values (`start:stop:step`). A subset of values is also valid. Its use is best explained by example:"
   ]
  },
  {
   "cell_type": "code",
   "execution_count": 89,
   "metadata": {
    "id": "Soff_s25wCCI",
    "outputId": "148e749a-db08-482f-a0c0-eb5a64bbd935",
    "pycharm": {
     "name": "#%%\n"
    }
   },
   "outputs": [
    {
     "name": "stdout",
     "output_type": "stream",
     "text": [
      "a\t\t = [0 1 2 3 4 5 6 7 8 9]\n",
      "a[2:7:1]\t = [2 3 4 5 6]\n",
      "a[2:7:2] \t = [2 4 6]\n",
      "a[3:]\t\t = [3 4 5 6 7 8 9]\n",
      "a[:3]\t\t = [0 1 2]\n",
      "a[:]\t\t = [0 1 2 3 4 5 6 7 8 9]\n"
     ]
    }
   ],
   "source": [
    "a = np.array([0, 1, 2, 3, 4, 5, 6, 7, 8, 9])\n",
    "print(f\"a\\t\\t = {a}\")\n",
    "print(f\"a[2:7:1]\\t = {a[2:7:1]}\")\n",
    "print(f\"a[2:7:2] \\t = {a[2:7:2]}\")\n",
    "print(f\"a[3:]\\t\\t = {a[3:]}\")\n",
    "print(f\"a[:3]\\t\\t = {a[:3]}\")\n",
    "print(f\"a[:]\\t\\t = {a[:]}\")"
   ]
  },
  {
   "cell_type": "markdown",
   "metadata": {
    "id": "64JeoOgywCCI",
    "pycharm": {
     "name": "#%% md\n"
    }
   },
   "source": [
    "<a name=\"toc_40015_3.4.3\"></a>\n",
    "### Single vector operations\n",
    "There are a number of useful operations that involve operations on a single vector."
   ]
  },
  {
   "cell_type": "code",
   "execution_count": 92,
   "metadata": {
    "id": "DXJp0aVTwCCI",
    "outputId": "a2e985c7-97f1-443f-9ecb-6c95c8f4cdad",
    "pycharm": {
     "name": "#%%\n"
    }
   },
   "outputs": [
    {
     "name": "stdout",
     "output_type": "stream",
     "text": [
      "a\t\t = [0 1 2 3 4 5 6 7 8 9]\n",
      "-a\t\t = [ 0 -1 -2 -3 -4 -5 -6 -7 -8 -9]\n",
      "np.sum(a) \t = 45\n",
      "np.mean(a)\t = 4.5\n",
      "a**2\t\t = [ 0  1  4  9 16 25 36 49 64 81]\n"
     ]
    }
   ],
   "source": [
    "a = np.array([0, 1, 2, 3, 4, 5, 6, 7, 8, 9])\n",
    "print(f\"a\\t\\t = {a}\")\n",
    "print(f\"-a\\t\\t = {-a}\")\n",
    "print(f\"np.sum(a) \\t = {np.sum(a)}\")\n",
    "print(f\"np.mean(a)\\t = {np.mean(a)}\")\n",
    "print(f\"a**2\\t\\t = {a**2}\")"
   ]
  },
  {
   "cell_type": "markdown",
   "metadata": {
    "id": "YPM3YOhawCCJ",
    "pycharm": {
     "name": "#%% md\n"
    }
   },
   "source": [
    "<a name=\"toc_40015_3.4.4\"></a>\n",
    "### Vector Vector element-wise operations\n",
    "Most of the NumPy arithmetic, logical and comparison operations apply to vectors as well. These operators work on an element-by-element basis. For example\n",
    "$$ \\mathbf{a} + \\mathbf{b} = \\sum_{i=0}^{n-1} a_i + b_i $$"
   ]
  },
  {
   "cell_type": "code",
   "execution_count": 95,
   "metadata": {
    "id": "DO3rpk0UwCCJ",
    "outputId": "9fe250bc-dc38-461b-b09e-562e36474014",
    "pycharm": {
     "name": "#%%\n"
    }
   },
   "outputs": [
    {
     "name": "stdout",
     "output_type": "stream",
     "text": [
      "Binary operators work element wise: [ 0  1  3  4  6  7  9 10 12 13]\n"
     ]
    }
   ],
   "source": [
    "a = np.array([0, 1, 2, 3, 4, 5, 6, 7, 8, 9])\n",
    "b = a // 2\n",
    "\n",
    "print(f\"Binary operators work element wise: {a + b}\")"
   ]
  },
  {
   "cell_type": "markdown",
   "metadata": {
    "id": "1P6UkgrXwCCJ",
    "pycharm": {
     "name": "#%% md\n"
    }
   },
   "source": [
    "Of course, for this to work correctly, the vectors must be of the same size:"
   ]
  },
  {
   "cell_type": "code",
   "execution_count": 98,
   "metadata": {
    "id": "pBu9WY7FwCCJ",
    "outputId": "54c5b711-4491-46f6-dcdd-08648bb3d0c4",
    "pycharm": {
     "name": "#%%\n"
    }
   },
   "outputs": [
    {
     "name": "stdout",
     "output_type": "stream",
     "text": [
      "operands could not be broadcast together with shapes (10,) (9,) \n"
     ]
    }
   ],
   "source": [
    "a = np.array([0, 1, 2, 3, 4, 5, 6, 7, 8, 9])\n",
    "b = np.array([0, 1, 2, 4, 5, 6, 7, 8, 9])\n",
    "try:\n",
    "    print(f\"Binary operators work element wise: {a + b}\")\n",
    "except Exception as e:\n",
    "    print(e)"
   ]
  },
  {
   "cell_type": "markdown",
   "metadata": {
    "id": "5zztCepBwCCJ",
    "pycharm": {
     "name": "#%% md\n"
    }
   },
   "source": [
    "<a name=\"toc_40015_3.4.5\"></a>\n",
    "### Scalar Vector operations\n",
    "Vectors can be 'scaled' by scalar values. A scalar value is just a number. The scalar multiplies all the elements of the vector."
   ]
  },
  {
   "cell_type": "code",
   "execution_count": 101,
   "metadata": {
    "id": "bwH5KCaIwCCJ",
    "outputId": "93fa3f40-7244-4ddc-d10d-6b5928d31212",
    "pycharm": {
     "name": "#%%\n"
    }
   },
   "outputs": [
    {
     "name": "stdout",
     "output_type": "stream",
     "text": [
      "b = 5 * a : [ 0  5 10 15 20 25 30 35 40 45]\n"
     ]
    }
   ],
   "source": [
    "a = np.array([0, 1, 2, 3, 4, 5, 6, 7, 8, 9])\n",
    "b = 5 * a\n",
    "print(f\"b = 5 * a : {b}\")"
   ]
  },
  {
   "cell_type": "markdown",
   "metadata": {
    "id": "hYG8sIumwCCK",
    "pycharm": {
     "name": "#%% md\n"
    }
   },
   "source": [
    "<a name=\"toc_40015_3.4.6\"></a>\n",
    "### Vector Vector dot product\n",
    "The dot product is a mainstay of Linear Algebra and NumPy. This is an operation used extensively in this course and should be well understood. The dot product is shown below."
   ]
  },
  {
   "cell_type": "markdown",
   "metadata": {
    "id": "_Po7f3oTwCCK",
    "pycharm": {
     "name": "#%% md\n"
    }
   },
   "source": [
    "<img src=\"./images/C1_W2_Lab04_dot_notrans.gif\" width=800>"
   ]
  },
  {
   "cell_type": "markdown",
   "metadata": {
    "id": "fkXH0FD1wCCK",
    "pycharm": {
     "name": "#%% md\n"
    }
   },
   "source": [
    "The dot product multiplies the values in two vectors element-wise and then sums the result.\n",
    "Vector dot product requires the dimensions of the two vectors to be the same."
   ]
  },
  {
   "cell_type": "markdown",
   "metadata": {
    "id": "7CKoPlKEwCCK",
    "pycharm": {
     "name": "#%% md\n"
    }
   },
   "source": [
    "Let's implement our own version of the dot product below:\n",
    "\n",
    "**Using a for loop**, implement a function which returns the dot product of two vectors. The function to return given inputs $a$ and $b$:\n",
    "$$ x = \\sum_{i=0}^{n-1} a_i b_i $$\n",
    "Assume both `a` and `b` are the same shape."
   ]
  },
  {
   "cell_type": "code",
   "execution_count": 23,
   "metadata": {
    "id": "RTBeV3ENwCCK",
    "pycharm": {
     "name": "#%%\n"
    }
   },
   "outputs": [
    {
     "name": "stdout",
     "output_type": "stream",
     "text": [
      "my_dot(a, b) = 130\n"
     ]
    }
   ],
   "source": [
    "a = np.array([0, 1, 2, 3, 4, 5, 6, 7, 8, 9])\n",
    "b = a // 2\n",
    "\n",
    "print(f\"my_dot(a, b) = {np.dot(a, b)}\")"
   ]
  },
  {
   "cell_type": "markdown",
   "metadata": {
    "id": "V6R5zr9lwCCK",
    "pycharm": {
     "name": "#%% md\n"
    }
   },
   "source": [
    "Note, the dot product is expected to return a scalar value.\n",
    "\n",
    "Let's try the same operations using `np.dot`.  "
   ]
  },
  {
   "cell_type": "code",
   "execution_count": 25,
   "metadata": {
    "id": "nq9UN9QPwCCL",
    "outputId": "9c97f7f1-655e-4e20-c4b7-405366a62cb9",
    "pycharm": {
     "name": "#%%\n"
    }
   },
   "outputs": [
    {
     "name": "stdout",
     "output_type": "stream",
     "text": [
      "NumPy 1-D np.dot(a, b) = 130, np.dot(a, b).shape = ()\n"
     ]
    }
   ],
   "source": [
    "a = np.array([0, 1, 2, 3, 4, 5, 6, 7, 8, 9])\n",
    "b = a // 2\n",
    "\n",
    "print(f\"NumPy 1-D np.dot(a, b) = {np.dot(a, b)}, np.dot(a, b).shape = {np.dot(a, b).shape}\")"
   ]
  },
  {
   "cell_type": "markdown",
   "metadata": {
    "id": "ZASfJLHGwCCL",
    "pycharm": {
     "name": "#%% md\n"
    }
   },
   "source": [
    "Above, you will note that the results for 1-D matched our implementation."
   ]
  },
  {
   "cell_type": "markdown",
   "metadata": {
    "id": "Q7AefRoYwCCL",
    "pycharm": {
     "name": "#%% md\n"
    }
   },
   "source": [
    "<a name=\"toc_40015_3.4.7\"></a>\n",
    "### The Need for Speed: vector vs for loop\n",
    "We utilized the NumPy  library because it improves speed memory efficiency. Let's demonstrate:"
   ]
  },
  {
   "cell_type": "code",
   "execution_count": 27,
   "metadata": {
    "id": "F1ZK9gmEwCCL",
    "outputId": "99edcc64-5eae-4dc8-bbd4-9a1ee36741ef",
    "pycharm": {
     "name": "#%%\n"
    }
   },
   "outputs": [
    {
     "name": "stdout",
     "output_type": "stream",
     "text": [
      "my_dot(a, b) = 130\n",
      "Vectorized version duration: 0.0\n",
      "my_dot(a, b) = 130\n",
      "loop version duration: 0.0\n"
     ]
    }
   ],
   "source": [
    "a = np.array([0, 1, 2, 3, 4, 5, 6, 7, 8, 9])\n",
    "b = a // 2\n",
    "start = time.time()\n",
    "dot = np.dot(a, b)\n",
    "end = time.time()\n",
    "print(f\"my_dot(a, b) = {dot}\")\n",
    "print(f\"Vectorized version duration: {end - start}\")\n",
    "\n",
    "start = time.time()\n",
    "result = 0\n",
    "for i in range(0, len(a)):\n",
    "    result += a[i] * b[i]\n",
    "end = time.time()\n",
    "print(f\"my_dot(a, b) = {result}\")\n",
    "print(f\"loop version duration: {end - start}\")"
   ]
  },
  {
   "cell_type": "markdown",
   "metadata": {
    "id": "QLvHq0tOwCCL",
    "pycharm": {
     "name": "#%% md\n"
    }
   },
   "source": [
    "So, vectorization provides a large speed up in this example. This is because NumPy makes better use of available data parallelism in the underlying hardware. GPU's and modern CPU's implement Single Instruction, Multiple Data (SIMD) pipelines allowing multiple operations to be issued in parallel. This is critical in Machine Learning where the data sets are often very large."
   ]
  },
  {
   "cell_type": "markdown",
   "metadata": {
    "id": "7I2z0V9IwCCQ",
    "pycharm": {
     "name": "#%% md\n"
    }
   },
   "source": [
    "<a name=\"toc_40015_4\"></a>\n",
    "# Matrices\n"
   ]
  },
  {
   "cell_type": "markdown",
   "metadata": {
    "id": "59XPyaTtwCCQ",
    "pycharm": {
     "name": "#%% md\n"
    }
   },
   "source": [
    "<a name=\"toc_40015_4.1\"></a>\n",
    "## Abstract\n",
    "Matrices, are two dimensional arrays. The elements of a matrix are all of the same type. In notation, matrices are denoted with capitol, bold letter such as $\\mathbf{X}$. In this and other labs, `m` is often the number of rows and `n` the number of columns. The elements of a matrix can be referenced with a two dimensional index. In math settings, numbers in the index typically run from 1 to n. In computer science and these labs, indexing will run from 0 to n-1.  \n",
    "<figure>\n",
    "    <center> <img src=\"./images/C1_W2_Lab04_Matrices.PNG\"  alt='missing'  width=900><center/>\n",
    "    <figcaption> Generic Matrix Notation, 1st index is row, 2nd is column </figcaption>\n",
    "<figure/>"
   ]
  },
  {
   "cell_type": "markdown",
   "metadata": {
    "id": "5tTKXsKpwCCQ",
    "pycharm": {
     "name": "#%% md\n"
    }
   },
   "source": [
    "<a name=\"toc_40015_4.2\"></a>\n",
    "## NumPy Arrays\n",
    "\n",
    "NumPy's basic data structure is an indexable, n-dimensional *array* containing elements of the same type (`dtype`). These were described earlier. Matrices have a two-dimensional (2-D) index [m,n].\n",
    "\n",
    "2-D matrices are used to hold training data. Training data is $m$ examples by $n$ features creating an (m,n) array. Course 1 does not do operations directly on matrices but typically extracts an example as a vector and operates on that. Below you will review:\n",
    "- data creation\n",
    "- slicing and indexing"
   ]
  },
  {
   "cell_type": "markdown",
   "metadata": {
    "id": "Y8rIQenDwCCQ",
    "pycharm": {
     "name": "#%% md\n"
    }
   },
   "source": [
    "<a name=\"toc_40015_4.3\"></a>\n",
    "## Matrix Creation\n",
    "The same functions that created 1-D vectors will create 2-D or n-D arrays. Here are some examples\n"
   ]
  },
  {
   "cell_type": "markdown",
   "metadata": {
    "id": "EKNxiFTAwCCR",
    "pycharm": {
     "name": "#%% md\n"
    }
   },
   "source": [
    "Below, the shape tuple is provided to achieve a 2-D result. Notice how NumPy uses brackets to denote each dimension. Notice further than NumPy, when printing, will print one row per line.\n"
   ]
  },
  {
   "cell_type": "code",
   "execution_count": 37,
   "metadata": {
    "id": "WmdQRc_owCCR",
    "outputId": "bbcdb659-9a4f-429f-d343-0f72db2591c8",
    "pycharm": {
     "name": "#%%\n"
    }
   },
   "outputs": [
    {
     "name": "stdout",
     "output_type": "stream",
     "text": [
      "a shape = (1, 5), a = [[0. 0. 0. 0. 0.]]\n",
      "a shape = (2, 1), a = [[0.]\n",
      " [0.]]\n",
      "a shape = (1, 1), a = [[0.]]\n"
     ]
    }
   ],
   "source": [
    "a = np.zeros((1, 5))\n",
    "print(f\"a shape = {a.shape}, a = {a}\")\n",
    "\n",
    "a = np.zeros((2, 1))\n",
    "print(f\"a shape = {a.shape}, a = {a}\")\n",
    "\n",
    "a = np.zeros((1, 1))\n",
    "print(f\"a shape = {a.shape}, a = {a}\")"
   ]
  },
  {
   "cell_type": "markdown",
   "metadata": {
    "id": "ILTE75DQwCCR",
    "pycharm": {
     "name": "#%% md\n"
    }
   },
   "source": [
    "One can also manually specify data. Dimensions are specified with additional brackets matching the format in the printing above."
   ]
  },
  {
   "cell_type": "code",
   "execution_count": 43,
   "metadata": {},
   "outputs": [
    {
     "name": "stdout",
     "output_type": "stream",
     "text": [
      "a shape = (3, 1), np.array: a = [[5]\n",
      " [4]\n",
      " [3]]\n"
     ]
    }
   ],
   "source": [
    "a = np.array([[5], [4], [3]])\n",
    "print(f\"a shape = {a.shape}, np.array: a = {a}\")"
   ]
  },
  {
   "cell_type": "markdown",
   "metadata": {
    "id": "er07AU2-wCCR",
    "pycharm": {
     "name": "#%% md\n"
    }
   },
   "source": [
    "<a name=\"toc_40015_4.4\"></a>\n",
    "## Operations on Matrices\n",
    "Let's explore some operations using matrices."
   ]
  },
  {
   "cell_type": "markdown",
   "metadata": {
    "id": "Ck-f5xclwCCS",
    "pycharm": {
     "name": "#%% md\n"
    }
   },
   "source": [
    "<a name=\"toc_40015_4.4.1\"></a>\n",
    "### Indexing\n"
   ]
  },
  {
   "cell_type": "markdown",
   "metadata": {
    "id": "O8G2SjDBwCCS",
    "pycharm": {
     "name": "#%% md\n"
    }
   },
   "source": [
    "Matrices include a second index. The two indexes describe [row, column]. Access can either return an element or a row/column. See below:"
   ]
  },
  {
   "cell_type": "code",
   "execution_count": 47,
   "metadata": {},
   "outputs": [
    {
     "name": "stdout",
     "output_type": "stream",
     "text": [
      "a shape = (3, 2), np.array: a = [[5 2]\n",
      " [4 4]\n",
      " [3 6]]\n"
     ]
    }
   ],
   "source": [
    "a = np.array([[5,2], [4,4], [3,6]])\n",
    "print(f\"a shape = {a.shape}, np.array: a = {a}\")"
   ]
  },
  {
   "cell_type": "code",
   "execution_count": 51,
   "metadata": {
    "id": "hSnsC1KDwCCS",
    "outputId": "465ea3a1-5d74-4b2d-f39d-f03969ba2e1a",
    "pycharm": {
     "name": "#%%\n"
    }
   },
   "outputs": [
    {
     "name": "stdout",
     "output_type": "stream",
     "text": [
      "a shape = (3, 1), np.array: a = [[5]\n",
      " [4]\n",
      " [3]]\n",
      "a[2,0].shape: = (), a[2,0] = = 3,  type(a[2,0]) = <class 'numpy.int32'>\n",
      "a[2].shape: = (1,), a[2,0] = = [3],  type(a[2,0]) = <class 'numpy.ndarray'>\n"
     ]
    }
   ],
   "source": [
    "a = np.array([[5], [4], [3]])\n",
    "print(f\"a shape = {a.shape}, np.array: a = {a}\")\n",
    "\n",
    "print(f\"a[2,0].shape: = {a[2,0].shape}, a[2,0] = = {a[2,0]},  type(a[2,0]) = {type(a[2,0])}\")\n",
    "print(f\"a[2].shape: = {a[2].shape}, a[2,0] = = {a[2]},  type(a[2,0]) = {type(a[2])}\")"
   ]
  },
  {
   "cell_type": "markdown",
   "metadata": {
    "id": "Oj_nfA8awCCS",
    "pycharm": {
     "name": "#%% md\n"
    }
   },
   "source": [
    "It is worth drawing attention to the last example. Accessing a matrix by just specifying the row will return a *1-D vector*."
   ]
  },
  {
   "cell_type": "markdown",
   "metadata": {
    "id": "mLwVzfyTwCCT",
    "pycharm": {
     "name": "#%% md\n"
    }
   },
   "source": [
    "**Reshape**  \n",
    "The previous example used [reshape](https://numpy.org/doc/stable/reference/generated/numpy.reshape.html) to shape the array.  \n",
    "`a = np.arange(6).reshape(-1, 2) `   \n",
    "This line of code first created a *1-D Vector* of six elements. It then reshaped that vector into a *2-D* array using the reshape command. This could have been written:  \n",
    "`a = np.arange(6).reshape(3, 2) `  \n",
    "To arrive at the same 3 row, 2 column array.\n",
    "The -1 argument tells the routine to compute the number of rows given the size of the array and the number of columns.\n"
   ]
  },
  {
   "cell_type": "markdown",
   "metadata": {
    "id": "BdYy1HFmwCCT",
    "pycharm": {
     "name": "#%% md\n"
    }
   },
   "source": [
    "<a name=\"toc_40015_4.4.2\"></a>\n",
    "### Slicing\n",
    "Slicing creates an array of indices using a set of three values (`start:stop:step`). A subset of values is also valid. Its use is best explained by example:"
   ]
  },
  {
   "cell_type": "code",
   "execution_count": 59,
   "metadata": {
    "id": "u5B0pNbPwCCT",
    "outputId": "4db51d3f-acc8-4d88-954d-52d5b09053aa",
    "pycharm": {
     "name": "#%%\n"
    }
   },
   "outputs": [
    {
     "name": "stdout",
     "output_type": "stream",
     "text": [
      "a = [[ 0  1  2  3  4  5  6  7  8  9]\n",
      " [10 11 12 13 14 15 16 17 18 19]]\n",
      "a[0, 2:7:1] = [2 3 4 5 6], a[0, 2:7:1].shape = (5,), a 1-D array \n",
      "a[:, 2:7:1] = [[ 2  3  4  5  6]\n",
      " [12 13 14 15 16]],  a[:, 2:7:1].shape = (2, 5)a 2-D array \n",
      "a[:,:] = [[ 0  1  2  3  4  5  6  7  8  9]\n",
      " [10 11 12 13 14 15 16 17 18 19]],  a[:,:].shape = (2, 10)\n",
      "a[1,:] = [10 11 12 13 14 15 16 17 18 19],  a[1,:].shape = (10,) a 1-D array\n",
      "a[1] = [10 11 12 13 14 15 16 17 18 19],  a[1,:].shape = (10,) a 1-D array\n"
     ]
    }
   ],
   "source": [
    "a = np.array([[0,  1,  2,  3,  4,  5,  6,  7,  8,  9],\n",
    "              [10, 11, 12, 13, 14, 15, 16, 17, 18, 19]])\n",
    "print(f\"a = {a}\")\n",
    "\n",
    "print(f\"a[0, 2:7:1] = {a[0, 2:7:1]}, a[0, 2:7:1].shape = {a[0, 2:7:1].shape}, a 1-D array \\na[:, 2:7:1] = {a[:, 2:7:1]},  a[:, 2:7:1].shape = {a[:, 2:7:1].shape}a 2-D array \\na[:,:] = {a[:,:]},  a[:,:].shape = {a[:,:].shape}\") \n",
    "print(f\"a[1,:] = {a[1,:]},  a[1,:].shape = {a[1,:].shape} a 1-D array\")\n",
    "print(f\"a[1] = {a[1,:]},  a[1,:].shape = {a[1].shape} a 1-D array\")"
   ]
  },
  {
   "cell_type": "markdown",
   "metadata": {
    "id": "p2103q22wCCU",
    "pycharm": {
     "name": "#%% md\n"
    }
   },
   "source": [
    "<a name=\"toc_40015_5.0\"></a>\n",
    "## Congratulations!\n",
    "You mastered the features of Python and NumPy."
   ]
  }
 ],
 "metadata": {
  "colab": {
   "provenance": []
  },
  "dl_toc_settings": {
   "rndtag": "40015"
  },
  "kernelspec": {
   "display_name": "Python 3 (ipykernel)",
   "language": "python",
   "name": "python3"
  },
  "language_info": {
   "codemirror_mode": {
    "name": "ipython",
    "version": 3
   },
   "file_extension": ".py",
   "mimetype": "text/x-python",
   "name": "python",
   "nbconvert_exporter": "python",
   "pygments_lexer": "ipython3",
   "version": "3.12.4"
  },
  "toc-autonumbering": false
 },
 "nbformat": 4,
 "nbformat_minor": 4
}
